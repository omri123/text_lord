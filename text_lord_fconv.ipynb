{
 "cells": [
  {
   "cell_type": "code",
   "execution_count": 5,
   "metadata": {},
   "outputs": [],
   "source": [
    "import torch\n",
    "import fairseq"
   ]
  },
  {
   "cell_type": "code",
   "execution_count": 6,
   "metadata": {},
   "outputs": [],
   "source": [
    "from fairseq.models import FairseqEncoder, FairseqEncoderDecoderModel\n",
    "\n",
    "from fairseq.models.fconv import (\n",
    "    Embedding,\n",
    "    PositionalEmbedding,\n",
    "    FConvDecoder\n",
    ")\n",
    "from torch.distributions import Normal\n",
    "\n",
    "\n",
    "from restorant_dataset import RestDataset, lines_generator\n",
    "from torchtext import data\n",
    "\n",
    "# device = 'cuda' if torch.cuda.is_available() else 'cpu'\n",
    "\n",
    "device = torch.device(\"cuda:0\" if torch.cuda.is_available() else \"cpu\")\n",
    "# net.to(device)"
   ]
  },
  {
   "cell_type": "code",
   "execution_count": 7,
   "metadata": {},
   "outputs": [
    {
     "data": {
      "text/plain": [
       "<torch._C.Generator at 0x7f9c340c04d0>"
      ]
     },
     "execution_count": 7,
     "metadata": {},
     "output_type": "execute_result"
    }
   ],
   "source": [
    "import torch.nn as nn\n",
    "import torch.nn.functional as F\n",
    "import torch.optim as optim\n",
    "import os\n",
    "from torch.utils.tensorboard import SummaryWriter\n",
    "\n",
    "\n",
    "torch.manual_seed(100)"
   ]
  },
  {
   "cell_type": "code",
   "execution_count": 8,
   "metadata": {},
   "outputs": [],
   "source": [
    "class NoEncoder(FairseqEncoder):\n",
    "    \"\"\"\n",
    "    The input contain:\n",
    "        sequence of latent embedding indecies\n",
    "        class index (positive / negative)\n",
    "        embed the input and noise the sample embeddings.\n",
    "    \"\"\"\n",
    "    def __init__(self, sample_size, padding_index, ntokens=5, embed_dim=512, noise_std=0.1, dropout=0.1):\n",
    "        \"\"\"\n",
    "        number of latent-space tokens is constant.\n",
    "        \"\"\"\n",
    "        super().__init__(None)\n",
    "        self.dropout = dropout\n",
    "        self.dim = embed_dim\n",
    "        self.ntokens = ntokens\n",
    "        \n",
    "        self.content_embeddings = Embedding(sample_size, embed_dim * ntokens, padding_index) # tokens-encoder, sample-specific\n",
    "        \n",
    "        self.negative_embedding = PositionalEmbedding(num_embeddings=ntokens+1, \n",
    "                                                     embedding_dim=embed_dim, \n",
    "                                                     padding_idx=0)\n",
    "        \n",
    "        self.positive_embedding = PositionalEmbedding(num_embeddings=ntokens+1, \n",
    "                                                     embedding_dim=embed_dim, \n",
    "                                                     padding_idx=0)\n",
    "        \n",
    "        self.noise = Normal(loc=0.0, scale=noise_std)\n",
    "        \n",
    "    def forward(self, src_tokens, src_lengths):\n",
    "        \"\"\"\n",
    "        src_tokens are two: one for the sentiment (0 or 1),\n",
    "                            and one for the sample [0.. sample_size]\n",
    "                            shape is always (batch, 2)\n",
    "        src_lengths is (batch)-size array full of 2.\n",
    "        \"\"\"\n",
    "        \n",
    "        batch_size = src_tokens.size()[0]\n",
    "        \n",
    "        # content embedding and noise\n",
    "        content = self.content_embeddings(src_tokens[:, 0])\n",
    "#         print('src_tokens.size(): {}'.format(src_tokens.size()))\n",
    "#         print('content.size(): {}'.format(content.size()))\n",
    "#         print('dim: {}'.format(self.dim))\n",
    "#         print('ntokens: {}'.format(self.ntokens))\n",
    "        content = content.view(batch_size, self.ntokens, self.dim)\n",
    "        content = content + self.noise.sample(sample_shape=content.size()).to(device)\n",
    "        \n",
    "        # sentiment positional embedding\n",
    "        positions = torch.arange(1, self.ntokens+1).unsqueeze(0).to(device) # 1 x ntokens\n",
    "        sentiment = src_tokens[:, 1].unsqueeze(1).unsqueeze(2) # batch x 1 x 1\n",
    "#         print(src_tokens[:, 1])\n",
    "        \n",
    "#         print(positions)\n",
    "#         print(self.positive_embedding)\n",
    "#         print(self.positive_embedding(positions))\n",
    "        \n",
    "        \n",
    "        a = self.positive_embedding(positions)\n",
    "        \n",
    "        b = self.negative_embedding(positions)\n",
    "        \n",
    "        sentiment = self.positive_embedding(positions) * sentiment + \\\n",
    "                     self.negative_embedding(positions) * (torch.tensor(1) - sentiment) # batch x ntokens x dim\n",
    "        print(sentiment)\n",
    "        \n",
    "        x = content + sentiment\n",
    "        x = F.dropout(x, p=self.dropout, training=self.training)\n",
    "#         x = x.permute(1, 0, 2)\n",
    "#         print('shape of encoder output is {}'.format(x.size()))\n",
    "        return {\n",
    "            'encoder_out': (x,x),\n",
    "            'encoder_padding_mask': None\n",
    "        }\n",
    "        \n"
   ]
  },
  {
   "cell_type": "code",
   "execution_count": 9,
   "metadata": {},
   "outputs": [],
   "source": [
    "class NoEncoderFConvDecoderModel(FairseqEncoderDecoderModel):\n",
    "    \"\"\"\n",
    "    encoder-decoder that use the no-encoder as encoder and the fconv decoder as decoder.\n",
    "    inspiration from fconv.py\n",
    "    \"\"\"\n",
    "    def __init__(self, encoder, decoder):\n",
    "        super().__init__(encoder, decoder)"
   ]
  },
  {
   "cell_type": "code",
   "execution_count": 10,
   "metadata": {},
   "outputs": [
    {
     "name": "stderr",
     "output_type": "stream",
     "text": [
      "290255it [00:02, 111975.66it/s]\n"
     ]
    }
   ],
   "source": [
    "def get_dataset(max_examples):\n",
    "    g = lines_generator()\n",
    "\n",
    "    id_f = data.Field(sequential=False, use_vocab=False)\n",
    "    stars_f = data.Field(sequential=False, use_vocab=False)\n",
    "    review_f = data.Field(sequential=True, use_vocab=True)\n",
    "\n",
    "    dataset = RestDataset(g, id_f, stars_f, review_f, max_examples)\n",
    "\n",
    "    review_f.build_vocab(dataset)\n",
    "    \n",
    "    return dataset, review_f.vocab\n",
    "\n",
    "nsamples = 300000\n",
    "dataset, vocab = get_dataset(nsamples)"
   ]
  },
  {
   "cell_type": "code",
   "execution_count": 11,
   "metadata": {},
   "outputs": [
    {
     "name": "stdout",
     "output_type": "stream",
     "text": [
      "42857\n",
      "9546\n"
     ]
    }
   ],
   "source": [
    "batch_size = 7\n",
    "iterations_per_epoch = nsamples // batch_size\n",
    "print(iterations_per_epoch)\n",
    "print(len(vocab))\n",
    "train_iter = data.BucketIterator(\n",
    "        dataset=dataset, batch_size=batch_size,\n",
    "        sort_key = lambda x: len(x.review), sort=True, repeat=True)"
   ]
  },
  {
   "cell_type": "code",
   "execution_count": null,
   "metadata": {},
   "outputs": [],
   "source": []
  },
  {
   "cell_type": "code",
   "execution_count": 12,
   "metadata": {},
   "outputs": [],
   "source": [
    "def checkpoint(model, path='/cs/labs/dshahaf/omribloch/train/text_lord/checkpoint_fconv.txt'):\n",
    "#     Save:\n",
    "    if os.path.exists(path):\n",
    "        os.remove(path)\n",
    "    torch.save(model.state_dict(), path)\n",
    "    print('saved checkpoint!')\n",
    "\n",
    "def load_checkpoint(path='/cs/labs/dshahaf/omribloch/train/text_lord/checkpoint_fconv.txt'):\n",
    "#     Load:\n",
    "    model = TheModelClass(*args, **kwargs)\n",
    "    model.load_state_dict(torch.load(PATH))\n",
    "    model.eval()"
   ]
  },
  {
   "cell_type": "code",
   "execution_count": 13,
   "metadata": {},
   "outputs": [
    {
     "name": "stderr",
     "output_type": "stream",
     "text": [
      "Widget Javascript not detected.  It may not be installed or enabled properly.\n"
     ]
    },
    {
     "data": {},
     "metadata": {},
     "output_type": "display_data"
    },
    {
     "name": "stdout",
     "output_type": "stream",
     "text": [
      "\n"
     ]
    }
   ],
   "source": [
    "from tqdm import tqdm_notebook\n",
    "\n",
    "decoder_dictionary = fairseq.data.dictionary.Dictionary()\n",
    "for i in tqdm_notebook(range(len(vocab))):\n",
    "    decoder_dictionary.add_symbol(vocab.itos[i])"
   ]
  },
  {
   "cell_type": "code",
   "execution_count": 14,
   "metadata": {},
   "outputs": [],
   "source": [
    "dim = 16\n",
    "encoder = NoEncoder(nsamples, decoder_dictionary.pad(), embed_dim=dim)\n",
    "# (self, sample_size, padding_index, ntokens=5, embed_dim=512, noise_std=0.1, dropout=0.1)\n",
    "decoder = FConvDecoder(decoder_dictionary, dim, None, dim, 20, ((dim, 3),) * 10)\n",
    "\n",
    "# #self, dictionary, embed_dim=512, embed_dict=None, out_embed_dim=256,\n",
    "#         max_positions=1024, convolutions=((512, 3),) * 20, attention=True,\n",
    "#         dropout=0.1, share_embed=False, positional_embeddings=True,\n",
    "#         adaptive_softmax_cutoff=None, adaptive_softmax_dropout=0,"
   ]
  },
  {
   "cell_type": "code",
   "execution_count": 15,
   "metadata": {},
   "outputs": [],
   "source": [
    "model = NoEncoderFConvDecoderModel(encoder, decoder)\n",
    "model = model.to(device)"
   ]
  },
  {
   "cell_type": "code",
   "execution_count": 16,
   "metadata": {
    "scrolled": false
   },
   "outputs": [
    {
     "name": "stderr",
     "output_type": "stream",
     "text": [
      "Widget Javascript not detected.  It may not be installed or enabled properly.\n"
     ]
    },
    {
     "data": {},
     "metadata": {},
     "output_type": "display_data"
    },
    {
     "name": "stdout",
     "output_type": "stream",
     "text": [
      "tensor([[[-0.0128, -0.1486, -0.1189, -0.0699,  0.0370, -0.1102, -0.0689,\n",
      "          -0.0093, -0.0841, -0.1360, -0.0464, -0.1339,  0.0418,  0.1255,\n",
      "           0.0333, -0.0599],\n",
      "         [-0.0401, -0.1098,  0.0526, -0.0320, -0.1121,  0.0552,  0.0405,\n",
      "          -0.0429, -0.1094,  0.1250, -0.0927, -0.0769,  0.0378,  0.1733,\n",
      "           0.0684, -0.0433],\n",
      "         [ 0.0444,  0.0483,  0.2074, -0.0192,  0.1611, -0.0124, -0.0270,\n",
      "          -0.1888,  0.0391, -0.1454, -0.0948, -0.0073,  0.0378,  0.0015,\n",
      "           0.1180,  0.0777],\n",
      "         [ 0.0676, -0.0197, -0.0670, -0.0314, -0.0274, -0.0373,  0.0070,\n",
      "           0.1100, -0.0738,  0.0061, -0.0845,  0.0115,  0.0266,  0.0079,\n",
      "          -0.1893, -0.1807],\n",
      "         [ 0.0556,  0.0138,  0.2458,  0.1024, -0.0793, -0.0982,  0.0157,\n",
      "          -0.0270,  0.0406,  0.1803, -0.2091, -0.1130,  0.0277, -0.2040,\n",
      "           0.2002, -0.0467]],\n",
      "\n",
      "        [[ 0.0593, -0.0908, -0.1312, -0.0910,  0.1459, -0.0489, -0.1645,\n",
      "          -0.2065, -0.0049, -0.0431, -0.0385, -0.0114,  0.0794,  0.0707,\n",
      "          -0.0447,  0.0400],\n",
      "         [ 0.0067,  0.1262, -0.1560,  0.1451,  0.1418, -0.1255, -0.0814,\n",
      "           0.1138,  0.0540,  0.1271,  0.0839,  0.0813, -0.1049,  0.1013,\n",
      "           0.0992,  0.0223],\n",
      "         [ 0.1832,  0.0732, -0.0068,  0.0129, -0.0230, -0.0049, -0.1249,\n",
      "           0.0019, -0.1066, -0.0283,  0.1267,  0.0216, -0.1325, -0.0221,\n",
      "           0.0013,  0.1148],\n",
      "         [ 0.0564,  0.0671, -0.0793,  0.0128, -0.0473,  0.1074, -0.1514,\n",
      "          -0.0532, -0.1114, -0.0637, -0.1100,  0.0630,  0.1401, -0.2374,\n",
      "          -0.0921, -0.1544],\n",
      "         [ 0.0875, -0.1219, -0.0633, -0.0711, -0.0486,  0.0105,  0.0352,\n",
      "          -0.0534, -0.1048,  0.0621, -0.0795,  0.0818,  0.1866,  0.1777,\n",
      "           0.0636, -0.0727]],\n",
      "\n",
      "        [[ 0.0593, -0.0908, -0.1312, -0.0910,  0.1459, -0.0489, -0.1645,\n",
      "          -0.2065, -0.0049, -0.0431, -0.0385, -0.0114,  0.0794,  0.0707,\n",
      "          -0.0447,  0.0400],\n",
      "         [ 0.0067,  0.1262, -0.1560,  0.1451,  0.1418, -0.1255, -0.0814,\n",
      "           0.1138,  0.0540,  0.1271,  0.0839,  0.0813, -0.1049,  0.1013,\n",
      "           0.0992,  0.0223],\n",
      "         [ 0.1832,  0.0732, -0.0068,  0.0129, -0.0230, -0.0049, -0.1249,\n",
      "           0.0019, -0.1066, -0.0283,  0.1267,  0.0216, -0.1325, -0.0221,\n",
      "           0.0013,  0.1148],\n",
      "         [ 0.0564,  0.0671, -0.0793,  0.0128, -0.0473,  0.1074, -0.1514,\n",
      "          -0.0532, -0.1114, -0.0637, -0.1100,  0.0630,  0.1401, -0.2374,\n",
      "          -0.0921, -0.1544],\n",
      "         [ 0.0875, -0.1219, -0.0633, -0.0711, -0.0486,  0.0105,  0.0352,\n",
      "          -0.0534, -0.1048,  0.0621, -0.0795,  0.0818,  0.1866,  0.1777,\n",
      "           0.0636, -0.0727]],\n",
      "\n",
      "        [[-0.0128, -0.1486, -0.1189, -0.0699,  0.0370, -0.1102, -0.0689,\n",
      "          -0.0093, -0.0841, -0.1360, -0.0464, -0.1339,  0.0418,  0.1255,\n",
      "           0.0333, -0.0599],\n",
      "         [-0.0401, -0.1098,  0.0526, -0.0320, -0.1121,  0.0552,  0.0405,\n",
      "          -0.0429, -0.1094,  0.1250, -0.0927, -0.0769,  0.0378,  0.1733,\n",
      "           0.0684, -0.0433],\n",
      "         [ 0.0444,  0.0483,  0.2074, -0.0192,  0.1611, -0.0124, -0.0270,\n",
      "          -0.1888,  0.0391, -0.1454, -0.0948, -0.0073,  0.0378,  0.0015,\n",
      "           0.1180,  0.0777],\n",
      "         [ 0.0676, -0.0197, -0.0670, -0.0314, -0.0274, -0.0373,  0.0070,\n",
      "           0.1100, -0.0738,  0.0061, -0.0845,  0.0115,  0.0266,  0.0079,\n",
      "          -0.1893, -0.1807],\n",
      "         [ 0.0556,  0.0138,  0.2458,  0.1024, -0.0793, -0.0982,  0.0157,\n",
      "          -0.0270,  0.0406,  0.1803, -0.2091, -0.1130,  0.0277, -0.2040,\n",
      "           0.2002, -0.0467]],\n",
      "\n",
      "        [[-0.0128, -0.1486, -0.1189, -0.0699,  0.0370, -0.1102, -0.0689,\n",
      "          -0.0093, -0.0841, -0.1360, -0.0464, -0.1339,  0.0418,  0.1255,\n",
      "           0.0333, -0.0599],\n",
      "         [-0.0401, -0.1098,  0.0526, -0.0320, -0.1121,  0.0552,  0.0405,\n",
      "          -0.0429, -0.1094,  0.1250, -0.0927, -0.0769,  0.0378,  0.1733,\n",
      "           0.0684, -0.0433],\n",
      "         [ 0.0444,  0.0483,  0.2074, -0.0192,  0.1611, -0.0124, -0.0270,\n",
      "          -0.1888,  0.0391, -0.1454, -0.0948, -0.0073,  0.0378,  0.0015,\n",
      "           0.1180,  0.0777],\n",
      "         [ 0.0676, -0.0197, -0.0670, -0.0314, -0.0274, -0.0373,  0.0070,\n",
      "           0.1100, -0.0738,  0.0061, -0.0845,  0.0115,  0.0266,  0.0079,\n",
      "          -0.1893, -0.1807],\n",
      "         [ 0.0556,  0.0138,  0.2458,  0.1024, -0.0793, -0.0982,  0.0157,\n",
      "          -0.0270,  0.0406,  0.1803, -0.2091, -0.1130,  0.0277, -0.2040,\n",
      "           0.2002, -0.0467]],\n",
      "\n",
      "        [[-0.0128, -0.1486, -0.1189, -0.0699,  0.0370, -0.1102, -0.0689,\n",
      "          -0.0093, -0.0841, -0.1360, -0.0464, -0.1339,  0.0418,  0.1255,\n",
      "           0.0333, -0.0599],\n",
      "         [-0.0401, -0.1098,  0.0526, -0.0320, -0.1121,  0.0552,  0.0405,\n",
      "          -0.0429, -0.1094,  0.1250, -0.0927, -0.0769,  0.0378,  0.1733,\n",
      "           0.0684, -0.0433],\n",
      "         [ 0.0444,  0.0483,  0.2074, -0.0192,  0.1611, -0.0124, -0.0270,\n",
      "          -0.1888,  0.0391, -0.1454, -0.0948, -0.0073,  0.0378,  0.0015,\n",
      "           0.1180,  0.0777],\n",
      "         [ 0.0676, -0.0197, -0.0670, -0.0314, -0.0274, -0.0373,  0.0070,\n",
      "           0.1100, -0.0738,  0.0061, -0.0845,  0.0115,  0.0266,  0.0079,\n",
      "          -0.1893, -0.1807],\n",
      "         [ 0.0556,  0.0138,  0.2458,  0.1024, -0.0793, -0.0982,  0.0157,\n",
      "          -0.0270,  0.0406,  0.1803, -0.2091, -0.1130,  0.0277, -0.2040,\n",
      "           0.2002, -0.0467]],\n",
      "\n",
      "        [[ 0.0593, -0.0908, -0.1312, -0.0910,  0.1459, -0.0489, -0.1645,\n",
      "          -0.2065, -0.0049, -0.0431, -0.0385, -0.0114,  0.0794,  0.0707,\n",
      "          -0.0447,  0.0400],\n",
      "         [ 0.0067,  0.1262, -0.1560,  0.1451,  0.1418, -0.1255, -0.0814,\n",
      "           0.1138,  0.0540,  0.1271,  0.0839,  0.0813, -0.1049,  0.1013,\n",
      "           0.0992,  0.0223],\n",
      "         [ 0.1832,  0.0732, -0.0068,  0.0129, -0.0230, -0.0049, -0.1249,\n",
      "           0.0019, -0.1066, -0.0283,  0.1267,  0.0216, -0.1325, -0.0221,\n",
      "           0.0013,  0.1148],\n",
      "         [ 0.0564,  0.0671, -0.0793,  0.0128, -0.0473,  0.1074, -0.1514,\n",
      "          -0.0532, -0.1114, -0.0637, -0.1100,  0.0630,  0.1401, -0.2374,\n",
      "          -0.0921, -0.1544],\n",
      "         [ 0.0875, -0.1219, -0.0633, -0.0711, -0.0486,  0.0105,  0.0352,\n",
      "          -0.0534, -0.1048,  0.0621, -0.0795,  0.0818,  0.1866,  0.1777,\n",
      "           0.0636, -0.0727]]], grad_fn=<AddBackward0>)\n",
      "epoch = 0\n",
      "9.24625015258789\n",
      "0\n",
      "9.24625015258789\n",
      "\n"
     ]
    }
   ],
   "source": [
    "PAD = decoder_dictionary.pad()\n",
    "\n",
    "loss_function = F.cross_entropy\n",
    "# for parameter in model.parameters():\n",
    "#     torch.nn.utils.clip_grad.clip_grad_value_(parameter, 0.1)\n",
    "# optimizer = optim.Adagrad(model.parameters())\n",
    "# optimizer_2 = optim.SGD(encoder.content_embeddings.parameters(), 0.1, weight_decay=0.001)\n",
    "\n",
    "\n",
    "\n",
    "\n",
    "optimizer = optim.SGD(model.parameters(), lr=0.25, momentum=0.99, nesterov=True)\n",
    "\n",
    "\n",
    "\n",
    "\n",
    "def shift_left(tensor, padding_value):\n",
    "    \"\"\"\n",
    "    tensor is 2-d, (sequence, batch)\n",
    "    we are shifting the sequence and we will get (sequence+1, batch)\n",
    "    \"\"\"\n",
    "    assert len(tensor.size()) == 2\n",
    "    new_tensor = torch.full(tensor.size(), padding_value, dtype=torch.int64)\n",
    "    new_tensor[0:-1, :] = tensor[1:, :]\n",
    "    return new_tensor\n",
    "\n",
    "\n",
    "# training loop\n",
    "from tqdm import tqdm_notebook\n",
    "import numpy as np\n",
    "losses = []\n",
    "writer = SummaryWriter(comment=' 2 optimizers with decay')\n",
    "for i, batch in tqdm_notebook(enumerate(train_iter)):\n",
    "    \n",
    "    rbatch_size = batch.id.size()[0]\n",
    "#     print(rbatch_size)\n",
    "    \n",
    "    ids = batch.id.to(device)\n",
    "    stars = batch.stars.to(device)\n",
    "    reviews = batch.review.transpose(1, 0).to(device)\n",
    "    \n",
    "    src_tokens = torch.zeros(rbatch_size, 2, dtype=torch.int64).to(device)\n",
    "    src_tokens[:, 0] = ids\n",
    "    src_tokens[:, 1] = stars\n",
    "#     print('stars')\n",
    "#     print(stars)\n",
    "    \n",
    "    src_lengths = torch.full((rbatch_size,1), 5).to(device)\n",
    "    \n",
    "    \n",
    "    model.zero_grad()\n",
    "    # def forward(self, src_tokens, src_lengths, prev_output_tokens, **kwargs):\n",
    "    logits, _ = model(src_tokens, src_lengths, shift_left(reviews, PAD).to(device))\n",
    "#     print('logits', logits.size())\n",
    "    predictions = F.softmax(logits, dim=2)\n",
    "#     print('predictions', predictions.size())\n",
    "#     print(torch.argmax(predictions, axis=2))\n",
    "#     print(reviews)\n",
    "#     break\n",
    "    \n",
    "    logits_flat = logits.view(-1, len(vocab)) # on cuda\n",
    "    targets_flat = reviews.reshape(-1).to(device)\n",
    "    \n",
    "    loss = loss_function(logits_flat, targets_flat)\n",
    "\n",
    "#     break\n",
    "    losses.append(loss.item())\n",
    "    writer.add_scalar('Loss/train', loss.item(), i)\n",
    "    \n",
    "    logits_flat_np = logits_flat.detach().cpu().numpy()\n",
    "    targets_flat_np = targets_flat.detach().cpu().numpy()\n",
    "    acc = np.sum(np.argmax(logits_flat_np, axis=1) == targets_flat_np) / targets_flat_np.size\n",
    "    writer.add_scalar('Acc/train', acc, i)\n",
    "\n",
    "    \n",
    "    if i % iterations_per_epoch == 0:\n",
    "#     if i % 10 == 0:\n",
    "        print('epoch = {}'.format(i // iterations_per_epoch))\n",
    "        print(np.average(losses))\n",
    "        writer.add_scalar('Loss/train_epoch', np.average(losses), i // iterations_per_epoch)\n",
    "        losses = []\n",
    "    print(i)\n",
    "    print(loss.item())\n",
    "        \n",
    "    loss.backward()\n",
    "    torch.nn.utils.clip_grad.clip_grad_value_(model.parameters(), 0.1)\n",
    "    optimizer.step()\n",
    "    break\n",
    "#     optimizer_2.step()\n",
    "\n"
   ]
  },
  {
   "cell_type": "code",
   "execution_count": 17,
   "metadata": {},
   "outputs": [
    {
     "name": "stdout",
     "output_type": "stream",
     "text": [
      "Parameter containing:\n",
      "tensor([[ 0.0000,  0.0000,  0.0000,  0.0000,  0.0000,  0.0000,  0.0000,  0.0000,\n",
      "          0.0000,  0.0000,  0.0000,  0.0000,  0.0000,  0.0000,  0.0000,  0.0000],\n",
      "        [-0.0143, -0.1736, -0.1280, -0.0559, -0.0033, -0.1299, -0.0908,  0.0057,\n",
      "         -0.0821, -0.1573, -0.0336, -0.1000,  0.0418,  0.1344,  0.0206, -0.0529],\n",
      "        [-0.0402, -0.1337,  0.0442, -0.0200, -0.1421,  0.0357,  0.0307, -0.0276,\n",
      "         -0.1086,  0.1034, -0.0766, -0.0534,  0.0376,  0.1762,  0.0564, -0.0394],\n",
      "        [ 0.0446,  0.0245,  0.1980, -0.0058,  0.1206, -0.0321, -0.0499, -0.1736,\n",
      "          0.0395, -0.1534, -0.0820,  0.0114,  0.0440,  0.0055,  0.1045,  0.0850],\n",
      "        [ 0.0657, -0.0437, -0.0715, -0.0176, -0.0643, -0.0498, -0.0125,  0.1202,\n",
      "         -0.0707, -0.0116, -0.0740,  0.0325,  0.0327,  0.0158, -0.1995, -0.1757],\n",
      "        [ 0.0559, -0.0128,  0.2410,  0.1149, -0.1206, -0.1165, -0.0024, -0.0137,\n",
      "          0.0402,  0.1634, -0.1987, -0.0954,  0.0341, -0.1960,  0.1875, -0.0427]],\n",
      "       requires_grad=True)\n"
     ]
    }
   ],
   "source": [
    "for p in encoder.positive_embedding.parameters():\n",
    "    print(p)"
   ]
  },
  {
   "cell_type": "code",
   "execution_count": 18,
   "metadata": {},
   "outputs": [],
   "source": [
    "batch_size = 256\n",
    "iterations_per_epoch = nsamples // batch_size\n",
    "train_iter = data.BucketIterator(\n",
    "        dataset=dataset, batch_size=batch_size,\n",
    "        sort_key = lambda x: len(x.review), sort=False, sort_within_batch=True, repeat=False)\n",
    "\n",
    "lenghs = []\n",
    "for batch in train_iter:\n",
    "    lenghs.append(batch.review.size()[0])\n",
    "    "
   ]
  },
  {
   "cell_type": "code",
   "execution_count": 19,
   "metadata": {},
   "outputs": [
    {
     "data": {
      "text/plain": [
       "<Figure size 640x480 with 1 Axes>"
      ]
     },
     "metadata": {},
     "output_type": "display_data"
    }
   ],
   "source": [
    "import matplotlib.pyplot as plt\n",
    "\n",
    "plt.hist(lenghs)\n",
    "plt.show()"
   ]
  },
  {
   "cell_type": "code",
   "execution_count": 20,
   "metadata": {},
   "outputs": [
    {
     "data": {
      "image/png": "[encoded data removed]",
      "text/plain": [
       "<Figure size 432x288 with 1 Axes>"
      ]
     },
     "metadata": {
      "needs_background": "light"
     },
     "output_type": "display_data"
    }
   ],
   "source": [
    "plt.plot(lenghs)\n",
    "plt.show()"
   ]
  },
  {
   "cell_type": "code",
   "execution_count": 21,
   "metadata": {},
   "outputs": [
    {
     "ename": "AttributeError",
     "evalue": "'NoEncoderFConvDecoderModel' object has no attribute 'create_initial_hiddens'",
     "traceback": [
      "\u001b[0;31m---------------------------------------------------------------------------\u001b[0m",
      "\u001b[0;31mAttributeError\u001b[0m                            Traceback (most recent call last)",
      "\u001b[0;32m<ipython-input-21-a46ae8bef5c8>\u001b[0m in \u001b[0;36m<module>\u001b[0;34m()\u001b[0m\n\u001b[1;32m     20\u001b[0m \u001b[0;34m\u001b[0m\u001b[0m\n\u001b[1;32m     21\u001b[0m \u001b[0;32mwith\u001b[0m \u001b[0mtorch\u001b[0m\u001b[0;34m.\u001b[0m\u001b[0mno_grad\u001b[0m\u001b[0;34m(\u001b[0m\u001b[0;34m)\u001b[0m\u001b[0;34m:\u001b[0m\u001b[0;34m\u001b[0m\u001b[0;34m\u001b[0m\u001b[0m\n\u001b[0;32m---> 22\u001b[0;31m     \u001b[0mdecoded\u001b[0m \u001b[0;34m=\u001b[0m \u001b[0mgreedy_decode\u001b[0m\u001b[0;34m(\u001b[0m\u001b[0mmodel\u001b[0m\u001b[0;34m,\u001b[0m \u001b[0mvocab\u001b[0m\u001b[0;34m,\u001b[0m \u001b[0;36m1\u001b[0m\u001b[0;34m,\u001b[0m \u001b[0;36m500\u001b[0m\u001b[0;34m)\u001b[0m\u001b[0;34m\u001b[0m\u001b[0;34m\u001b[0m\u001b[0m\n\u001b[0m\u001b[1;32m     23\u001b[0m     \u001b[0msentence_final\u001b[0m \u001b[0;34m=\u001b[0m \u001b[0;34m' '\u001b[0m\u001b[0;34m.\u001b[0m\u001b[0mjoin\u001b[0m\u001b[0;34m(\u001b[0m\u001b[0mdecoded\u001b[0m\u001b[0;34m)\u001b[0m\u001b[0;34m\u001b[0m\u001b[0;34m\u001b[0m\u001b[0m\n\u001b[1;32m     24\u001b[0m     \u001b[0mprint\u001b[0m\u001b[0;34m(\u001b[0m\u001b[0msentence_final\u001b[0m\u001b[0;34m)\u001b[0m\u001b[0;34m\u001b[0m\u001b[0;34m\u001b[0m\u001b[0m\n",
      "\u001b[0;32m<ipython-input-21-a46ae8bef5c8>\u001b[0m in \u001b[0;36mgreedy_decode\u001b[0;34m(model, vocab, stars, sample_id)\u001b[0m\n\u001b[1;32m      3\u001b[0m     \u001b[0msample_id\u001b[0m \u001b[0;34m=\u001b[0m \u001b[0mtorch\u001b[0m\u001b[0;34m.\u001b[0m\u001b[0mtensor\u001b[0m\u001b[0;34m(\u001b[0m\u001b[0msample_id\u001b[0m\u001b[0;34m)\u001b[0m\u001b[0;34m.\u001b[0m\u001b[0munsqueeze_\u001b[0m\u001b[0;34m(\u001b[0m\u001b[0;36m0\u001b[0m\u001b[0;34m)\u001b[0m\u001b[0;34m\u001b[0m\u001b[0;34m\u001b[0m\u001b[0m\n\u001b[1;32m      4\u001b[0m     \u001b[0mtoken\u001b[0m \u001b[0;34m=\u001b[0m \u001b[0;34m'START'\u001b[0m\u001b[0;34m\u001b[0m\u001b[0;34m\u001b[0m\u001b[0m\n\u001b[0;32m----> 5\u001b[0;31m     \u001b[0mstate\u001b[0m \u001b[0;34m=\u001b[0m \u001b[0mmodel\u001b[0m\u001b[0;34m.\u001b[0m\u001b[0mcreate_initial_hiddens\u001b[0m\u001b[0;34m(\u001b[0m\u001b[0mstars\u001b[0m\u001b[0;34m,\u001b[0m \u001b[0msample_id\u001b[0m\u001b[0;34m)\u001b[0m\u001b[0;34m\u001b[0m\u001b[0;34m\u001b[0m\u001b[0m\n\u001b[0m\u001b[1;32m      6\u001b[0m     \u001b[0mprint\u001b[0m\u001b[0;34m(\u001b[0m\u001b[0mstate\u001b[0m\u001b[0;34m[\u001b[0m\u001b[0;36m0\u001b[0m\u001b[0;34m]\u001b[0m\u001b[0;34m.\u001b[0m\u001b[0msize\u001b[0m\u001b[0;34m(\u001b[0m\u001b[0;34m)\u001b[0m\u001b[0;34m)\u001b[0m\u001b[0;34m\u001b[0m\u001b[0;34m\u001b[0m\u001b[0m\n\u001b[1;32m      7\u001b[0m     \u001b[0mi\u001b[0m \u001b[0;34m=\u001b[0m \u001b[0;36m0\u001b[0m\u001b[0;34m\u001b[0m\u001b[0;34m\u001b[0m\u001b[0m\n",
      "\u001b[0;32m/cs/labs/dshahaf/omribloch/env/fairseq/lib/python3.7/site-packages/torch/nn/modules/module.py\u001b[0m in \u001b[0;36m__getattr__\u001b[0;34m(self, name)\u001b[0m\n\u001b[1;32m    574\u001b[0m                 \u001b[0;32mreturn\u001b[0m \u001b[0mmodules\u001b[0m\u001b[0;34m[\u001b[0m\u001b[0mname\u001b[0m\u001b[0;34m]\u001b[0m\u001b[0;34m\u001b[0m\u001b[0;34m\u001b[0m\u001b[0m\n\u001b[1;32m    575\u001b[0m         raise AttributeError(\"'{}' object has no attribute '{}'\".format(\n\u001b[0;32m--> 576\u001b[0;31m             type(self).__name__, name))\n\u001b[0m\u001b[1;32m    577\u001b[0m \u001b[0;34m\u001b[0m\u001b[0m\n\u001b[1;32m    578\u001b[0m     \u001b[0;32mdef\u001b[0m \u001b[0m__setattr__\u001b[0m\u001b[0;34m(\u001b[0m\u001b[0mself\u001b[0m\u001b[0;34m,\u001b[0m \u001b[0mname\u001b[0m\u001b[0;34m,\u001b[0m \u001b[0mvalue\u001b[0m\u001b[0;34m)\u001b[0m\u001b[0;34m:\u001b[0m\u001b[0;34m\u001b[0m\u001b[0;34m\u001b[0m\u001b[0m\n",
      "\u001b[0;31mAttributeError\u001b[0m: 'NoEncoderFConvDecoderModel' object has no attribute 'create_initial_hiddens'"
     ],
     "output_type": "error"
    }
   ],
   "source": [
    "def greedy_decode(model, vocab, stars, sample_id):\n",
    "    stars = torch.tensor(stars).unsqueeze_(0)\n",
    "    sample_id = torch.tensor(sample_id).unsqueeze_(0)\n",
    "    token = 'START'\n",
    "    state = model.create_initial_hiddens(stars, sample_id)\n",
    "    print(state[0].size())\n",
    "    i = 0\n",
    "    tmp = [token]\n",
    "    while token != 'END':\n",
    "        review = torch.full((1,1), vocab.stoi[token], dtype=torch.int64)\n",
    "        \n",
    "        prediction, state = model(review, state)\n",
    "        token = decode_int(torch.argmax(prediction))\n",
    "        tmp.append(token)\n",
    "        i += 1\n",
    "        if i > 200:\n",
    "            print('too long!!!')\n",
    "            return tmp\n",
    "    return tmp\n",
    "\n",
    "with torch.no_grad():\n",
    "    decoded = greedy_decode(model, vocab, 1, 500)\n",
    "    sentence_final = ' '.join(decoded)\n",
    "    print(sentence_final)"
   ]
  },
  {
   "cell_type": "code",
   "execution_count": null,
   "metadata": {},
   "outputs": [],
   "source": []
  }
 ],
 "metadata": {
  "kernelspec": {
   "display_name": "Python 3",
   "language": "python",
   "name": "python3"
  },
  "language_info": {
   "codemirror_mode": {
    "name": "ipython",
    "version": 3
   },
   "file_extension": ".py",
   "mimetype": "text/x-python",
   "name": "python",
   "nbconvert_exporter": "python",
   "pygments_lexer": "ipython3",
   "version": "3.7.6"
  }
 },
 "nbformat": 4,
 "nbformat_minor": 2
}
